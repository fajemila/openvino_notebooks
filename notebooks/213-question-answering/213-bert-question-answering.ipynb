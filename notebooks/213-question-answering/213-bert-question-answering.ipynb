{
 "cells": [
  {
   "cell_type": "markdown",
   "id": "30ebb3a6",
   "metadata": {
    "tags": []
   },
   "source": [
    "### Introduction\n",
    "\n",
    "The goal of this notebook is to demonstrate how to perform inference using the DistilBERT model on OpenVINO. DistilBERT is a popular pre-trained transformer-based model for natural language processing. The `distilbert-base-cased-distilled-squad` variant is trained to answer questions. We will first convert the PyTorch model to ONNX, and then convert the ONNX model to an intermediate representation for optimization and deployment on a CPU using OpenVINO."
   ]
  },
  {
   "cell_type": "markdown",
   "id": "43b201da",
   "metadata": {
    "tags": []
   },
   "source": [
    "## Prerequisites\n",
    "To follow this tutorial, you need to have Python 3.6 or later installed, along with the following libraries:\n",
    "\n",
    "- `numpy`\n",
    "- `openvino`\n",
    "- `torch`\n",
    "- `transformers`\n",
    "\n",
    "You can install these libraries using pip\n",
    "\n",
    "`pip install numpy onnxruntime openvino torch transformers`\n",
    "    \n",
    "However, once you have installed the `requirements.txt`, file you dont need to run the above command."
   ]
  },
  {
   "cell_type": "markdown",
   "id": "d0e5649a",
   "metadata": {},
   "source": [
    "## Step 1: Load the Model and Tokenizer\n",
    "First, we need to load the DistilBERT model and tokenizer from the Hugging Face transformers library. The DistilBERT model is pre-trained on a large corpus of text and can be used for various NLP tasks, including question answering."
   ]
  },
  {
   "cell_type": "code",
   "execution_count": 1,
   "id": "ad543783",
   "metadata": {
    "tags": []
   },
   "outputs": [
    {
     "ename": "ImportError",
     "evalue": "numpy>=1.17 is required for a normal functioning of this module, but found numpy==1.15.4.\nTry: pip install transformers -U or pip install -e '.[dev]' if you're working with git main",
     "output_type": "error",
     "traceback": [
      "\u001b[1;31m---------------------------------------------------------------------------\u001b[0m",
      "\u001b[1;31mImportError\u001b[0m                               Traceback (most recent call last)",
      "\u001b[1;32m~\\AppData\\Local\\Temp\\ipykernel_17192\\1147436116.py\u001b[0m in \u001b[0;36m<module>\u001b[1;34m\u001b[0m\n\u001b[1;32m----> 1\u001b[1;33m \u001b[1;32mfrom\u001b[0m \u001b[0mtransformers\u001b[0m \u001b[1;32mimport\u001b[0m \u001b[0mDistilBertTokenizer\u001b[0m\u001b[1;33m,\u001b[0m \u001b[0mDistilBertForQuestionAnswering\u001b[0m\u001b[1;33m\u001b[0m\u001b[1;33m\u001b[0m\u001b[0m\n\u001b[0m\u001b[0;32m      2\u001b[0m \u001b[1;32mimport\u001b[0m \u001b[0mtorch\u001b[0m\u001b[1;33m\u001b[0m\u001b[1;33m\u001b[0m\u001b[0m\n\u001b[0;32m      3\u001b[0m \u001b[1;32mfrom\u001b[0m \u001b[0mpathlib\u001b[0m \u001b[1;32mimport\u001b[0m \u001b[0mPath\u001b[0m\u001b[1;33m\u001b[0m\u001b[1;33m\u001b[0m\u001b[0m\n\u001b[0;32m      4\u001b[0m \u001b[1;32mimport\u001b[0m \u001b[0mopenvino\u001b[0m\u001b[1;33m.\u001b[0m\u001b[0mruntime\u001b[0m \u001b[1;32mas\u001b[0m \u001b[0mov\u001b[0m\u001b[1;33m\u001b[0m\u001b[1;33m\u001b[0m\u001b[0m\n\u001b[0;32m      5\u001b[0m \u001b[1;33m\u001b[0m\u001b[0m\n",
      "\u001b[1;32m~\\Anaconda3\\lib\\site-packages\\transformers\\__init__.py\u001b[0m in \u001b[0;36m<module>\u001b[1;34m\u001b[0m\n\u001b[0;32m     24\u001b[0m \u001b[1;33m\u001b[0m\u001b[0m\n\u001b[0;32m     25\u001b[0m \u001b[1;31m# Check the dependencies satisfy the minimal versions required.\u001b[0m\u001b[1;33m\u001b[0m\u001b[1;33m\u001b[0m\u001b[1;33m\u001b[0m\u001b[0m\n\u001b[1;32m---> 26\u001b[1;33m \u001b[1;32mfrom\u001b[0m \u001b[1;33m.\u001b[0m \u001b[1;32mimport\u001b[0m \u001b[0mdependency_versions_check\u001b[0m\u001b[1;33m\u001b[0m\u001b[1;33m\u001b[0m\u001b[0m\n\u001b[0m\u001b[0;32m     27\u001b[0m from .utils import (\n\u001b[0;32m     28\u001b[0m     \u001b[0mOptionalDependencyNotAvailable\u001b[0m\u001b[1;33m,\u001b[0m\u001b[1;33m\u001b[0m\u001b[1;33m\u001b[0m\u001b[0m\n",
      "\u001b[1;32m~\\Anaconda3\\lib\\site-packages\\transformers\\dependency_versions_check.py\u001b[0m in \u001b[0;36m<module>\u001b[1;34m\u001b[0m\n\u001b[0;32m     39\u001b[0m                 \u001b[1;32mcontinue\u001b[0m  \u001b[1;31m# not required, check version only if installed\u001b[0m\u001b[1;33m\u001b[0m\u001b[1;33m\u001b[0m\u001b[0m\n\u001b[0;32m     40\u001b[0m \u001b[1;33m\u001b[0m\u001b[0m\n\u001b[1;32m---> 41\u001b[1;33m         \u001b[0mrequire_version_core\u001b[0m\u001b[1;33m(\u001b[0m\u001b[0mdeps\u001b[0m\u001b[1;33m[\u001b[0m\u001b[0mpkg\u001b[0m\u001b[1;33m]\u001b[0m\u001b[1;33m)\u001b[0m\u001b[1;33m\u001b[0m\u001b[1;33m\u001b[0m\u001b[0m\n\u001b[0m\u001b[0;32m     42\u001b[0m     \u001b[1;32melse\u001b[0m\u001b[1;33m:\u001b[0m\u001b[1;33m\u001b[0m\u001b[1;33m\u001b[0m\u001b[0m\n\u001b[0;32m     43\u001b[0m         \u001b[1;32mraise\u001b[0m \u001b[0mValueError\u001b[0m\u001b[1;33m(\u001b[0m\u001b[1;34mf\"can't find {pkg} in {deps.keys()}, check dependency_versions_table.py\"\u001b[0m\u001b[1;33m)\u001b[0m\u001b[1;33m\u001b[0m\u001b[1;33m\u001b[0m\u001b[0m\n",
      "\u001b[1;32m~\\Anaconda3\\lib\\site-packages\\transformers\\utils\\versions.py\u001b[0m in \u001b[0;36mrequire_version_core\u001b[1;34m(requirement)\u001b[0m\n\u001b[0;32m    121\u001b[0m     \u001b[1;34m\"\"\"require_version wrapper which emits a core-specific hint on failure\"\"\"\u001b[0m\u001b[1;33m\u001b[0m\u001b[1;33m\u001b[0m\u001b[0m\n\u001b[0;32m    122\u001b[0m     \u001b[0mhint\u001b[0m \u001b[1;33m=\u001b[0m \u001b[1;34m\"Try: pip install transformers -U or pip install -e '.[dev]' if you're working with git main\"\u001b[0m\u001b[1;33m\u001b[0m\u001b[1;33m\u001b[0m\u001b[0m\n\u001b[1;32m--> 123\u001b[1;33m     \u001b[1;32mreturn\u001b[0m \u001b[0mrequire_version\u001b[0m\u001b[1;33m(\u001b[0m\u001b[0mrequirement\u001b[0m\u001b[1;33m,\u001b[0m \u001b[0mhint\u001b[0m\u001b[1;33m)\u001b[0m\u001b[1;33m\u001b[0m\u001b[1;33m\u001b[0m\u001b[0m\n\u001b[0m",
      "\u001b[1;32m~\\Anaconda3\\lib\\site-packages\\transformers\\utils\\versions.py\u001b[0m in \u001b[0;36mrequire_version\u001b[1;34m(requirement, hint)\u001b[0m\n\u001b[0;32m    115\u001b[0m     \u001b[1;32mif\u001b[0m \u001b[0mwant_ver\u001b[0m \u001b[1;32mis\u001b[0m \u001b[1;32mnot\u001b[0m \u001b[1;32mNone\u001b[0m\u001b[1;33m:\u001b[0m\u001b[1;33m\u001b[0m\u001b[1;33m\u001b[0m\u001b[0m\n\u001b[0;32m    116\u001b[0m         \u001b[1;32mfor\u001b[0m \u001b[0mop\u001b[0m\u001b[1;33m,\u001b[0m \u001b[0mwant_ver\u001b[0m \u001b[1;32min\u001b[0m \u001b[0mwanted\u001b[0m\u001b[1;33m.\u001b[0m\u001b[0mitems\u001b[0m\u001b[1;33m(\u001b[0m\u001b[1;33m)\u001b[0m\u001b[1;33m:\u001b[0m\u001b[1;33m\u001b[0m\u001b[1;33m\u001b[0m\u001b[0m\n\u001b[1;32m--> 117\u001b[1;33m             \u001b[0m_compare_versions\u001b[0m\u001b[1;33m(\u001b[0m\u001b[0mop\u001b[0m\u001b[1;33m,\u001b[0m \u001b[0mgot_ver\u001b[0m\u001b[1;33m,\u001b[0m \u001b[0mwant_ver\u001b[0m\u001b[1;33m,\u001b[0m \u001b[0mrequirement\u001b[0m\u001b[1;33m,\u001b[0m \u001b[0mpkg\u001b[0m\u001b[1;33m,\u001b[0m \u001b[0mhint\u001b[0m\u001b[1;33m)\u001b[0m\u001b[1;33m\u001b[0m\u001b[1;33m\u001b[0m\u001b[0m\n\u001b[0m\u001b[0;32m    118\u001b[0m \u001b[1;33m\u001b[0m\u001b[0m\n\u001b[0;32m    119\u001b[0m \u001b[1;33m\u001b[0m\u001b[0m\n",
      "\u001b[1;32m~\\Anaconda3\\lib\\site-packages\\transformers\\utils\\versions.py\u001b[0m in \u001b[0;36m_compare_versions\u001b[1;34m(op, got_ver, want_ver, requirement, pkg, hint)\u001b[0m\n\u001b[0;32m     49\u001b[0m     \u001b[1;32mif\u001b[0m \u001b[1;32mnot\u001b[0m \u001b[0mops\u001b[0m\u001b[1;33m[\u001b[0m\u001b[0mop\u001b[0m\u001b[1;33m]\u001b[0m\u001b[1;33m(\u001b[0m\u001b[0mversion\u001b[0m\u001b[1;33m.\u001b[0m\u001b[0mparse\u001b[0m\u001b[1;33m(\u001b[0m\u001b[0mgot_ver\u001b[0m\u001b[1;33m)\u001b[0m\u001b[1;33m,\u001b[0m \u001b[0mversion\u001b[0m\u001b[1;33m.\u001b[0m\u001b[0mparse\u001b[0m\u001b[1;33m(\u001b[0m\u001b[0mwant_ver\u001b[0m\u001b[1;33m)\u001b[0m\u001b[1;33m)\u001b[0m\u001b[1;33m:\u001b[0m\u001b[1;33m\u001b[0m\u001b[1;33m\u001b[0m\u001b[0m\n\u001b[0;32m     50\u001b[0m         raise ImportError(\n\u001b[1;32m---> 51\u001b[1;33m             \u001b[1;34mf\"{requirement} is required for a normal functioning of this module, but found {pkg}=={got_ver}.{hint}\"\u001b[0m\u001b[1;33m\u001b[0m\u001b[1;33m\u001b[0m\u001b[0m\n\u001b[0m\u001b[0;32m     52\u001b[0m         )\n\u001b[0;32m     53\u001b[0m \u001b[1;33m\u001b[0m\u001b[0m\n",
      "\u001b[1;31mImportError\u001b[0m: numpy>=1.17 is required for a normal functioning of this module, but found numpy==1.15.4.\nTry: pip install transformers -U or pip install -e '.[dev]' if you're working with git main"
     ]
    }
   ],
   "source": [
    "from transformers import DistilBertTokenizer, DistilBertForQuestionAnswering\n",
    "import torch\n",
    "from pathlib import Path\n",
    "import openvino.runtime as ov\n",
    "\n",
    "# Load the pre-trained tokenizer and model\n",
    "model_ckpt = \"distilbert-base-cased-distilled-squad\"\n",
    "tokenizer = DistilBertTokenizer.from_pretrained(model_ckpt)\n",
    "model = DistilBertForQuestionAnswering.from_pretrained(model_ckpt)"
   ]
  },
  {
   "cell_type": "code",
   "execution_count": 2,
   "id": "03fb6521",
   "metadata": {
    "tags": []
   },
   "outputs": [],
   "source": [
    "model_dir = Path(\"model\")\n",
    "model_dir.mkdir(exist_ok=True)\n",
    "MODEL_DIR = \"model/\"\n",
    "MODEL_DIR = f\"{MODEL_DIR}\""
   ]
  },
  {
   "cell_type": "markdown",
   "id": "df25f482",
   "metadata": {},
   "source": [
    "## Step 2: Define the Question and Context\n",
    "Next, we need to define the question and context for which we want to find the answer. The question should be a string that represents the question, and the context should be a string that represents the text where the answer can be found. Since the task is for extractive question answering.."
   ]
  },
  {
   "cell_type": "code",
   "execution_count": 3,
   "id": "faf57422",
   "metadata": {
    "tags": []
   },
   "outputs": [],
   "source": [
    "# Define the question and context\n",
    "question = \"What is ONNX?\"\n",
    "context = \"ONNX (Open Neural Network Exchange) is an open standard format for representing machine learning models.\""
   ]
  },
  {
   "cell_type": "markdown",
   "id": "363ff6d3",
   "metadata": {},
   "source": [
    "## Step 3: Tokenize the Input\n",
    "Before we can pass the input to the model, we need to tokenize it using the DistilBERT tokenizer. The tokenizer converts the input into a sequence of tokens that can be fed into the model."
   ]
  },
  {
   "cell_type": "code",
   "execution_count": 4,
   "id": "87ca4a3c",
   "metadata": {
    "tags": []
   },
   "outputs": [],
   "source": [
    "# Tokenize the input\n",
    "inputs = tokenizer(question, context, add_special_tokens=True, return_tensors=\"pt\")"
   ]
  },
  {
   "cell_type": "markdown",
   "id": "a544b004",
   "metadata": {},
   "source": [
    "## Step 4: Perform Question Answering\n",
    "Now, we can pass the tokenized input to the DistilBERT model to perform question answering. The model returns two sets of logits: one for the start index of the answer span and one for the end index of the answer span."
   ]
  },
  {
   "cell_type": "code",
   "execution_count": 5,
   "id": "cf0fd254",
   "metadata": {
    "tags": []
   },
   "outputs": [],
   "source": [
    "# Perform the question answering task\n",
    "outputs = model(**inputs)\n",
    "start_scores = outputs.start_logits\n",
    "end_scores = outputs.end_logits"
   ]
  },
  {
   "cell_type": "markdown",
   "id": "2df4a0f7",
   "metadata": {},
   "source": [
    "## Step 5: Find the Answer Span\n",
    "We need to find the start and end indices of the answer span in the context. We do this by finding the indices with the highest scores in the start and end logits."
   ]
  },
  {
   "cell_type": "code",
   "execution_count": 6,
   "id": "ae41e53c",
   "metadata": {
    "tags": []
   },
   "outputs": [],
   "source": [
    "# Find the start and end indices of the answer span\n",
    "start_index = torch.argmax(start_scores)\n",
    "end_index = torch.argmax(end_scores) + 1"
   ]
  },
  {
   "cell_type": "markdown",
   "id": "29468fc9",
   "metadata": {},
   "source": [
    "## Step 6: Get the Answer Tokens and Decode Them\n",
    "Finally, we can retrieve the answer tokens from the input and decode them using the DistilBERT tokenizer."
   ]
  },
  {
   "cell_type": "code",
   "execution_count": 7,
   "id": "e104351a",
   "metadata": {
    "tags": []
   },
   "outputs": [],
   "source": [
    "# Get the answer tokens and decode them\n",
    "answer_tokens = inputs[\"input_ids\"][0][start_index:end_index]\n",
    "answer = tokenizer.decode(answer_tokens)"
   ]
  },
  {
   "cell_type": "code",
   "execution_count": 8,
   "id": "b7aa0fc8",
   "metadata": {
    "tags": []
   },
   "outputs": [
    {
     "name": "stdout",
     "output_type": "stream",
     "text": [
      "Open Neural Network Exchange\n"
     ]
    }
   ],
   "source": [
    "print(answer)"
   ]
  },
  {
   "cell_type": "markdown",
   "id": "bc31fc8f",
   "metadata": {},
   "source": [
    "## Step 7: Convert the Model to ONNX Format\n",
    "\n",
    "We can convert the PyTorch model to the ONNX format using the `torch.onnx.export` function. This function takes as inputs the PyTorch model, the input tensor, the output ONNX model name, and the names of the input and output tensors. We also need to specify the dynamic axes of the input and output tensors. Dynamic axes allow the input and output tensors to have a variable batch size and sequence length. Meaning we can enter length of various sizes as long as it is less than maximum input sizes for DistillBERT, and also process multiple inputs at once"
   ]
  },
  {
   "cell_type": "code",
   "execution_count": 9,
   "id": "e32b56ff",
   "metadata": {
    "tags": []
   },
   "outputs": [
    {
     "name": "stderr",
     "output_type": "stream",
     "text": [
      "/workspaces/codespaces-blank/openvino_env/lib/python3.10/site-packages/transformers/models/distilbert/modeling_distilbert.py:218: TracerWarning: torch.tensor results are registered as constants in the trace. You can safely ignore this warning if you use this function to create tensors out of constant variables that would be the same every time you call this function. In any other case, this might cause the trace to be incorrect.\n",
      "  mask, torch.tensor(torch.finfo(scores.dtype).min)\n"
     ]
    },
    {
     "name": "stdout",
     "output_type": "stream",
     "text": [
      "Model saved in ONNX format.\n"
     ]
    }
   ],
   "source": [
    "# Define the input and output names for the ONNX model\n",
    "input_names = [\"input_ids\", \"attention_mask\"]\n",
    "output_names = [\"start_logits\", \"end_logits\"]\n",
    "input_ids = inputs[\"input_ids\"]\n",
    "attention_mask = inputs[\"attention_mask\"]\n",
    "onnx_path = Path(\"model/distillbert_qa.onnx\")\n",
    "\n",
    "# Export the model to the ONNX format\n",
    "torch.onnx.export(\n",
    "    model,  # model to export\n",
    "    (input_ids, attention_mask),  # input as tuple\n",
    "    onnx_path,  # output ONNX model name\n",
    "    input_names=input_names,  # names for input tensor\n",
    "    output_names=output_names,  # names for output tensor\n",
    "    dynamic_axes={\n",
    "        \"input_ids\": {0: \"batch_size\", 1: \"sequence_length\"},\n",
    "        \"attention_mask\": {0: \"batch_size\", 1: \"sequence_length\"},\n",
    "        \"start_logits\": {0: \"batch_size\"},\n",
    "        \"end_logits\": {0: \"batch_size\"},\n",
    "    },\n",
    ")\n",
    "print(\"Model saved in ONNX format.\")"
   ]
  },
  {
   "cell_type": "markdown",
   "id": "fdcd80cf",
   "metadata": {},
   "source": [
    "## Step 8: Convert the Model to OpenVINO Format\n",
    "\n",
    "Now that we have our model in the ONNX format, we can use the OpenVINO toolkit to optimize the model for deployment on Intel hardware. We first need to use the OpenVINO Model Optimizer to convert the ONNX model to the OpenVINO Intermediate Representation (IR) format"
   ]
  },
  {
   "cell_type": "code",
   "execution_count": 10,
   "id": "45d70630",
   "metadata": {
    "tags": []
   },
   "outputs": [
    {
     "name": "stdout",
     "output_type": "stream",
     "text": [
      "[ INFO ] The model was converted to IR v11, the latest model format that corresponds to the source DL framework input/output format. While IR v11 is backwards compatible with OpenVINO Inference Engine API v1.0, please use API v2.0 (as of 2022.1) to take advantage of the latest improvements in IR v11.\n",
      "Find more information about API v2.0 and IR v11 at https://docs.openvino.ai/latest/openvino_2_0_transition_guide.html\n",
      "[ SUCCESS ] Generated IR version 11 model.\n",
      "[ SUCCESS ] XML file: /workspaces/codespaces-blank/openvino_notebooks/notebooks/236-distillbert_question_answering/model/distilbert-base-cased-distilled-squad.xml\n",
      "[ SUCCESS ] BIN file: /workspaces/codespaces-blank/openvino_notebooks/notebooks/236-distillbert_question_answering/model/distilbert-base-cased-distilled-squad.bin\n"
     ]
    }
   ],
   "source": [
    "# Construct the command for Model Optimizer.\n",
    "optimizer_command = f'mo \\\n",
    "                     --input_model {onnx_path} \\\n",
    "                     --output_dir {MODEL_DIR} \\\n",
    "                     --model_name {model_ckpt} \\\n",
    "                     --input input_ids,attention_mask \\\n",
    "                     --input_shape \"[1,512],[1,512]\"'\n",
    "\n",
    "! $optimizer_command\n",
    "\n",
    "core = ov.Core()\n",
    "ir_model_xml = str((Path(MODEL_DIR) / model_ckpt).with_suffix(\".xml\"))\n",
    "compiled_model = core.compile_model(ir_model_xml)"
   ]
  },
  {
   "cell_type": "markdown",
   "id": "239cbd46",
   "metadata": {},
   "source": [
    "## Step 9: Create a function to answer questions\n",
    "Now that we have our ONNX model and our tokenizer, we can create a function that takes a question and a context as inputs and returns an answer.\n",
    "\n",
    "First, we need to tokenize the input using the tokenizer. We will use the padding and truncation options to ensure that the input is of a fixed length (512 in this case) and that any extra text is truncated or padded with zeros as necessary.\n",
    "\n",
    "Once we have the input tokenized, we can use the infer method of the compiled OpenVINO model to get the start and end indices of the answer span. We will then decode the answer tokens using the tokenizer and return the resulting answer."
   ]
  },
  {
   "cell_type": "markdown",
   "id": "3033908c",
   "metadata": {},
   "source": [
    "Now we can use this function to answer questions based on the input context:"
   ]
  },
  {
   "cell_type": "code",
   "execution_count": 11,
   "id": "e1bcde68",
   "metadata": {
    "tags": []
   },
   "outputs": [],
   "source": [
    "def answer_question(compiled_model, tokenizer, question, context):\n",
    "    input_attention_ids = tokenizer(\n",
    "        question,\n",
    "        context,\n",
    "        padding=\"max_length\",\n",
    "        max_length=512,\n",
    "        truncation=True,\n",
    "        return_tensors=\"np\",\n",
    "    )\n",
    "\n",
    "    inputs = dict(input_attention_ids)\n",
    "\n",
    "    result = model.infer(inputs=inputs)\n",
    "\n",
    "    start_index, end_index = result.values()\n",
    "\n",
    "    # Find the start and end indices of the answer span\n",
    "    start_index = start_index.argmax()\n",
    "    end_index = end_index.argmax() + 1\n",
    "\n",
    "    # Get the answer tokens and decode them\n",
    "    answer_tokens = inputs[\"input_ids\"][0][start_index:end_index]\n",
    "    answer = tokenizer.decode(answer_tokens)\n",
    "\n",
    "    return answer"
   ]
  },
  {
   "cell_type": "code",
   "execution_count": 12,
   "id": "7936fa69",
   "metadata": {
    "tags": []
   },
   "outputs": [
    {
     "name": "stdout",
     "output_type": "stream",
     "text": [
      "Open Neural Network Exchange\n"
     ]
    }
   ],
   "source": [
    "question = \"What is ONNX? \"\n",
    "context = \"ONNX (Open Neural Network Exchange) is an open standard format for representing machine learning models.\"\n",
    "answer = answer_question(compiled_model, tokenizer, question, context)\n",
    "print(answer)"
   ]
  },
  {
   "cell_type": "code",
   "execution_count": null,
   "id": "30c6ec1d",
   "metadata": {},
   "outputs": [],
   "source": []
  }
 ],
 "metadata": {
  "kernelspec": {
   "display_name": "Python 3 (ipykernel)",
   "language": "python",
   "name": "python3"
  },
  "language_info": {
   "codemirror_mode": {
    "name": "ipython",
    "version": 3
   },
   "file_extension": ".py",
   "mimetype": "text/x-python",
   "name": "python",
   "nbconvert_exporter": "python",
   "pygments_lexer": "ipython3",
   "version": "3.7.1"
  }
 },
 "nbformat": 4,
 "nbformat_minor": 5
}
